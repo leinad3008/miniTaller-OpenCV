{
 "cells": [
  {
   "cell_type": "code",
   "execution_count": null,
   "id": "8e36886a",
   "metadata": {},
   "outputs": [],
   "source": [
    "#Bloque 1. Quitar el # en caso de necesitar hacer las instalaciones\n",
    "#!pip install opencv-contrib-python\n",
    "#!pip install numpy\n",
    "#!pip install matplotlib"
   ]
  },
  {
   "cell_type": "code",
   "execution_count": null,
   "id": "d5ba3bee",
   "metadata": {},
   "outputs": [],
   "source": [
    "#Bloque 2. importación de librerias\n",
    "import cv2 as cv\n",
    "import sys\n",
    "import matplotlib.pyplot as plt\n",
    "%matplotlib inline"
   ]
  },
  {
   "cell_type": "code",
   "execution_count": null,
   "id": "03a31c6b",
   "metadata": {},
   "outputs": [],
   "source": [
    "#Bloque 3. Lectura de imagenes\n",
    "img0= cv.imread('EdiEle.jpeg') \n",
    "#img1= cv.cvtColor(img0, <Arg>)\n",
    "#img2= cv.cvtColor(img0, <Arg>)"
   ]
  },
  {
   "cell_type": "code",
   "execution_count": null,
   "id": "f24e0716",
   "metadata": {
    "scrolled": true
   },
   "outputs": [],
   "source": [
    "#Bloque 4. Mostrando la imagen con la ayuda de matplotlib\n",
    "plt.imshow(img0)\n",
    "plt.show()"
   ]
  },
  {
   "cell_type": "code",
   "execution_count": null,
   "id": "b6920ccd",
   "metadata": {},
   "outputs": [],
   "source": [
    "#Bloque5. Guardar las imagenes\n",
    "filename = 'BW.jpeg'\n",
    "###Aquí va el comando\n"
   ]
  },
  {
   "cell_type": "code",
   "execution_count": null,
   "id": "6e87cc31",
   "metadata": {},
   "outputs": [],
   "source": [
    "#Bloque 6. Cantidad de px de la imagen\n",
    "print(img0.shape)\n"
   ]
  },
  {
   "cell_type": "code",
   "execution_count": null,
   "id": "0ea0b1f3",
   "metadata": {},
   "outputs": [],
   "source": [
    "#Bloque 7. Mostrando la imagen\n",
    "color= (255, 0, 0)\n",
    "cv.line(img0,(0,0),(854,479),color,40)\n",
    "plt.imshow(img0)\n",
    "plt.show()"
   ]
  },
  {
   "cell_type": "code",
   "execution_count": null,
   "id": "7f2d85d2",
   "metadata": {},
   "outputs": [],
   "source": [
    "#Bloque 8. suma de imagenes con pesos\n",
    "img3= cv.cvtColor(cv.imread('sleepnt.png'),cv.COLOR_BGR2RGB)\n",
    "resized = cv.resize(img3, (854,479))\n",
    "alpha=0.3\n",
    "beta=0.7\n",
    "zeta=0\n",
    "dst = cv.addWeighted(img1,alpha,resized,beta,zeta)  # dst=img1*alpha+resized*beta+zeta\n",
    "plt.imshow(dst)\n",
    "plt.show()"
   ]
  },
  {
   "cell_type": "code",
   "execution_count": null,
   "id": "33ae136b",
   "metadata": {},
   "outputs": [],
   "source": []
  },
  {
   "cell_type": "code",
   "execution_count": null,
   "id": "fa6fd86b",
   "metadata": {},
   "outputs": [],
   "source": []
  }
 ],
 "metadata": {
  "kernelspec": {
   "display_name": "Python 3",
   "language": "python",
   "name": "python3"
  },
  "language_info": {
   "codemirror_mode": {
    "name": "ipython",
    "version": 3
   },
   "file_extension": ".py",
   "mimetype": "text/x-python",
   "name": "python",
   "nbconvert_exporter": "python",
   "pygments_lexer": "ipython3",
   "version": "3.8.8"
  }
 },
 "nbformat": 4,
 "nbformat_minor": 5
}
